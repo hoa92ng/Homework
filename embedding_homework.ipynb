{
  "cells": [
    {
      "cell_type": "markdown",
      "metadata": {
        "id": "view-in-github",
        "colab_type": "text"
      },
      "source": [
        "<a href=\"https://colab.research.google.com/github/hoa92ng/Homework/blob/main/embedding_homework.ipynb\" target=\"_parent\"><img src=\"https://colab.research.google.com/assets/colab-badge.svg\" alt=\"Open In Colab\"/></a>"
      ]
    },
    {
      "cell_type": "code",
      "source": [
        "import torch\n",
        "from torch import nn\n",
        "\n",
        "from torchsummary import summary\n",
        "\n",
        "class SiameseNetwork(nn.Module):\n",
        "    def __init__(self, in_dimension=512, out_dimension=1024):\n",
        "        super(SiameseNetwork, self).__init__()\n",
        "\n",
        "        self.out_dimension = out_dimension\n",
        "\n",
        "        self.cnn = nn.Conv2d(in_channels=in_dimension, out_channels=out_dimension, kernel_size=3, padding='same')\n",
        "\n",
        "        self.linear_sub_1 = nn.LazyLinear(out_features=256)\n",
        "        self.linear_sub_2 = nn.LazyLinear(out_features=1024)\n",
        "        self.global_pooling = nn.AdaptiveAvgPool2d(output_size=(1, 1))\n",
        "        self.relu = nn.ReLU()\n",
        "        self.sigmoid = nn.Sigmoid()\n",
        "\n",
        "    def forward_once(self, x):\n",
        "    # def forward(self, x):\n",
        "        # Forward pass\n",
        "        x = self.cnn(x)\n",
        "\n",
        "        global_pooling = self.global_pooling(x)\n",
        "\n",
        "        attention_score = torch.transpose(global_pooling, -3, -1)\n",
        "        attention_score = self.linear_sub_1(attention_score)\n",
        "        attention_score = self.relu(attention_score)\n",
        "        attention_score = self.linear_sub_2(attention_score)\n",
        "        attention_score = self.sigmoid(attention_score)\n",
        "        attention_score = torch.transpose(attention_score, -3, -1)\n",
        "\n",
        "        output = torch.mul(x, attention_score)\n",
        "\n",
        "        output = torch.reshape(output, (-1, self.out_dimension))\n",
        "        return output\n",
        "\n",
        "    def forward(self, input1, input2):\n",
        "        # forward pass of input 1\n",
        "        output1 = self.forward_once(input1)\n",
        "        # forward pass of input 2\n",
        "        output2 = self.forward_once(input2)\n",
        "        return output1, output2\n",
        "\n",
        "\n",
        "network = SiameseNetwork(1536, 1024).to(device='cuda')\n",
        "summary(network, ((1536, 14, 14), (1536, 14, 14)))\n",
        "tensor = torch.randn(4, 1536, 14, 14).to(device='cuda')\n",
        "print(network(tensor, tensor).shape)"
      ],
      "metadata": {
        "id": "VCaHOs_5Yjuo"
      },
      "execution_count": null,
      "outputs": []
    }
  ],
  "metadata": {
    "colab": {
      "name": "Welcome To Colaboratory",
      "toc_visible": true,
      "provenance": [],
      "include_colab_link": true
    },
    "kernelspec": {
      "display_name": "Python 3",
      "name": "python3"
    }
  },
  "nbformat": 4,
  "nbformat_minor": 0
}