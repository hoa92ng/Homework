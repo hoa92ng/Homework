{
  "cells": [
    {
      "cell_type": "markdown",
      "metadata": {
        "id": "view-in-github",
        "colab_type": "text"
      },
      "source": [
        "<a href=\"https://colab.research.google.com/github/hoa92ng/Homework/blob/main/embedding_homework.ipynb\" target=\"_parent\"><img src=\"https://colab.research.google.com/assets/colab-badge.svg\" alt=\"Open In Colab\"/></a>"
      ]
    },
    {
      "cell_type": "code",
      "source": [
        "Row Names,instance_auroc,full_pixel_auroc,anomaly_pixel_auroc\n",
        "\n",
        "mvtec_bottle,1.0,0.9848388223156217,0.9795612113551637\n",
        "\n",
        "mvtec_cable,0.9968140929535232,0.9841372038295886,0.9752826952461647\n",
        "\n",
        "mvtec_capsule,0.9792580773833267,0.9895443632504134,0.9874208674147473\n",
        "\n",
        "mvtec_carpet,0.988362760834671,0.990496871831108,0.9878582223166695\n",
        "\n",
        "mvtec_grid,0.9791144527986633,0.988007840848073,0.9836616355360858\n",
        "\n",
        "mvtec_hazelnut,1.0,0.9867676790989195,0.9791327092006923\n",
        "\n",
        "mvtec_leather,1.0,0.9928831713401822,0.9903851327309942\n",
        "\n",
        "mvtec_metal_nut,0.9990224828934506,0.9834029444579608,0.979223844081265\n",
        "\n",
        "mvtec_pill,0.9667212220403709,0.9780118319383861,0.9760501580403979\n",
        "\n",
        "mvtec_screw,0.9877023980323837,0.9952476847840384,0.9938280036555261\n",
        "\n",
        "mvtec_tile,0.9949494949494949,0.957116990925436,0.9407954758215441\n",
        "\n",
        "mvtec_toothbrush,1.0,0.9857315428686503,0.9799756240845601\n",
        "\n",
        "mvtec_transistor,0.9987499999999999,0.9609810989424673,0.9274338615727747\n",
        "\n",
        "mvtec_wood,0.9912280701754386,0.9507743250682259,0.9373950548422444\n",
        "\n",
        "mvtec_zipper,0.9950105042016807,0.9886782466534234,0.9856368251785296\n",
        "\n",
        "Mean,0.9917955704175335,0.9811080412101663,0.9735760880718238\n"
      ],
      "metadata": {
        "id": "0gAKWx_s6vSL"
      },
      "execution_count": null,
      "outputs": []
    }
  ],
  "metadata": {
    "colab": {
      "name": "Welcome To Colaboratory",
      "toc_visible": true,
      "provenance": [],
      "include_colab_link": true
    },
    "kernelspec": {
      "display_name": "Python 3",
      "name": "python3"
    }
  },
  "nbformat": 4,
  "nbformat_minor": 0
}