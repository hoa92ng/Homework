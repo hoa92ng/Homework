{
  "cells": [
    {
      "cell_type": "markdown",
      "metadata": {
        "id": "view-in-github",
        "colab_type": "text"
      },
      "source": [
        "<a href=\"https://colab.research.google.com/github/hoa92ng/Homework/blob/main/Welcome_To_Colab.ipynb\" target=\"_parent\"><img src=\"https://colab.research.google.com/assets/colab-badge.svg\" alt=\"Open In Colab\"/></a>"
      ]
    },
    {
      "cell_type": "code",
      "source": [
        "!gdown --folder https://drive.google.com/drive/folders/1aWSFb-ZR8TTIDdRlDBBCh-YvvCxmt6Bc"
      ],
      "metadata": {
        "id": "Tvy7R559bvjl",
        "outputId": "7d38b4c6-d67f-4066-88d1-8879974149e5",
        "colab": {
          "base_uri": "https://localhost:8080/"
        }
      },
      "execution_count": 6,
      "outputs": [
        {
          "output_type": "stream",
          "name": "stdout",
          "text": [
            "Retrieving folder contents\n",
            "Processing file 1ppSSIuo0o740Z-Wfz6m47xQtmHd08znO bitsandbytes-0.43.0.dev0-cp311-cp311-win_amd64.whl\n",
            "Processing file 1I6I0pdL4QNcozYaWng7i1GnmPmqwWJZC deepspeed-0.13.1+unknown-py3-none-any.whl\n",
            "Processing file 1xU2jfkljiVuqqQjCkYPVa1KUFR8QF_SB llvm-5e5a22ca-windows-x64.tar.gz\n",
            "Processing file 1Xt_XGgc_wgl1f079oSjDNfCBhd7iXnzC triton-2.1.0-cp311-cp311-win_amd64.whl\n",
            "Retrieving folder contents completed\n",
            "Building directory structure\n",
            "Building directory structure completed\n",
            "Downloading...\n",
            "From: https://drive.google.com/uc?id=1ppSSIuo0o740Z-Wfz6m47xQtmHd08znO\n",
            "To: /content/311Wheels/bitsandbytes-0.43.0.dev0-cp311-cp311-win_amd64.whl\n",
            "100% 24.1M/24.1M [00:00<00:00, 60.2MB/s]\n",
            "Downloading...\n",
            "From: https://drive.google.com/uc?id=1I6I0pdL4QNcozYaWng7i1GnmPmqwWJZC\n",
            "To: /content/311Wheels/deepspeed-0.13.1+unknown-py3-none-any.whl\n",
            "100% 961k/961k [00:00<00:00, 129MB/s]\n",
            "Downloading...\n",
            "From (original): https://drive.google.com/uc?id=1xU2jfkljiVuqqQjCkYPVa1KUFR8QF_SB\n",
            "From (redirected): https://drive.google.com/uc?id=1xU2jfkljiVuqqQjCkYPVa1KUFR8QF_SB&confirm=t&uuid=a9ba3ff5-8a1b-4cdd-8d66-ffac721d5d99\n",
            "To: /content/311Wheels/llvm-5e5a22ca-windows-x64.tar.gz\n",
            "100% 1.33G/1.33G [00:13<00:00, 97.4MB/s]\n",
            "Downloading...\n",
            "From (original): https://drive.google.com/uc?id=1Xt_XGgc_wgl1f079oSjDNfCBhd7iXnzC\n",
            "From (redirected): https://drive.google.com/uc?id=1Xt_XGgc_wgl1f079oSjDNfCBhd7iXnzC&confirm=t&uuid=64c976aa-79e9-4657-b217-03a5be8448e8\n",
            "To: /content/311Wheels/triton-2.1.0-cp311-cp311-win_amd64.whl\n",
            "100% 760M/760M [00:12<00:00, 62.3MB/s]\n",
            "Download completed\n"
          ]
        }
      ]
    },
    {
      "cell_type": "code",
      "source": [
        "from google.colab import files\n",
        "files.download('/content/311Wheels/triton-2.1.0-cp311-cp311-win_amd64.whl')"
      ],
      "metadata": {
        "id": "ESxbFSPNhNLb",
        "outputId": "a2c5e648-b196-4da2-c245-7cf0a96d6bbe",
        "colab": {
          "base_uri": "https://localhost:8080/",
          "height": 34
        }
      },
      "execution_count": 7,
      "outputs": [
        {
          "output_type": "display_data",
          "data": {
            "text/plain": [
              "<IPython.core.display.Javascript object>"
            ],
            "application/javascript": [
              "\n",
              "    async function download(id, filename, size) {\n",
              "      if (!google.colab.kernel.accessAllowed) {\n",
              "        return;\n",
              "      }\n",
              "      const div = document.createElement('div');\n",
              "      const label = document.createElement('label');\n",
              "      label.textContent = `Downloading \"${filename}\": `;\n",
              "      div.appendChild(label);\n",
              "      const progress = document.createElement('progress');\n",
              "      progress.max = size;\n",
              "      div.appendChild(progress);\n",
              "      document.body.appendChild(div);\n",
              "\n",
              "      const buffers = [];\n",
              "      let downloaded = 0;\n",
              "\n",
              "      const channel = await google.colab.kernel.comms.open(id);\n",
              "      // Send a message to notify the kernel that we're ready.\n",
              "      channel.send({})\n",
              "\n",
              "      for await (const message of channel.messages) {\n",
              "        // Send a message to notify the kernel that we're ready.\n",
              "        channel.send({})\n",
              "        if (message.buffers) {\n",
              "          for (const buffer of message.buffers) {\n",
              "            buffers.push(buffer);\n",
              "            downloaded += buffer.byteLength;\n",
              "            progress.value = downloaded;\n",
              "          }\n",
              "        }\n",
              "      }\n",
              "      const blob = new Blob(buffers, {type: 'application/binary'});\n",
              "      const a = document.createElement('a');\n",
              "      a.href = window.URL.createObjectURL(blob);\n",
              "      a.download = filename;\n",
              "      div.appendChild(a);\n",
              "      a.click();\n",
              "      div.remove();\n",
              "    }\n",
              "  "
            ]
          },
          "metadata": {}
        },
        {
          "output_type": "display_data",
          "data": {
            "text/plain": [
              "<IPython.core.display.Javascript object>"
            ],
            "application/javascript": [
              "download(\"download_badd8b85-79ba-46c1-b061-2b1ba3b02d25\", \"triton-2.1.0-cp311-cp311-win_amd64.whl\", 759798815)"
            ]
          },
          "metadata": {}
        }
      ]
    },
    {
      "cell_type": "code",
      "source": [
        "from unsloth import FastLanguageModel\n",
        "import torch\n",
        "from trl import SFTTrainer\n",
        "from transformers import TrainingArguments\n",
        "from unsloth import is_bfloat16_supported\n",
        "import random\n",
        "from datasets import Dataset, DatasetDict\n",
        "from transformers import TrainingArguments\n",
        "from trl import SFTTrainer\n",
        "import os\n",
        "from transformers import set_seed as transformers_set_seed\n",
        "\n",
        "device = torch.device(\"cuda\" if torch.cuda.is_available() else \"cpu\")\n",
        "model_name = r\"\\llama3\\Llama-3-8b-Instruct\"\n",
        "\n",
        "HAS_BFLOAT16 = torch.cuda.is_bf16_supported()\n",
        "max_seq_length = 1024 # Choose any! We auto support RoPE Scaling internally!\n",
        "dtype = torch.float16 # None for auto detection. Float16 for Tesla T4, V100, Bfloat16 for Ampere+\n",
        "load_in_4bit = True # Use 4bit quantization to reduce memory usage. Can be False.\n",
        "\n",
        "model, tokenizer = FastLanguageModel.from_pretrained(\n",
        "    model_name = model_name,\n",
        "    max_seq_length = max_seq_length,\n",
        "    dtype = dtype,\n",
        "    load_in_4bit = load_in_4bit,\n",
        "    # token = \"hf_...\", # use one if using gated models like meta-llama/Llama-2-7b-hf\n",
        ")\n",
        "\n",
        "model = FastLanguageModel.get_peft_model(\n",
        "    model,\n",
        "    r = 16, # Choose any number > 0 ! Suggested 8, 16, 32, 64, 128\n",
        "    target_modules = [\"q_proj\", \"k_proj\", \"v_proj\", \"o_proj\",\n",
        "                      \"gate_proj\", \"up_proj\", \"down_proj\",],\n",
        "    lora_alpha = 16,\n",
        "    lora_dropout = 0, # Supports any, but = 0 is optimized\n",
        "    bias = \"none\",    # Supports any, but = \"none\" is optimized\n",
        "    # [NEW] \"unsloth\" uses 30% less VRAM, fits 2x larger batch sizes!\n",
        "    use_gradient_checkpointing = \"unsloth\", # True or \"unsloth\" for very long context\n",
        "    random_state = 3407,\n",
        "    use_rslora = False,  # We support rank stabilized LoRA\n",
        "    loftq_config = None, # And LoftQ\n",
        ")\n",
        "\n",
        "\n",
        "\n",
        "source_train_file_ko_en = \"ko_en.txt\"\n",
        "target_train_file_ko_en = \"en_ko.txt\"\n",
        "source_train_file_vi_en = \"vi_en.txt\"\n",
        "target_train_file_vi_en = \"en_vi.txt\"\n",
        "source_train_file_vi_ko = \"vi_ko.txt\"\n",
        "target_train_file_vi_ko = \"ko_vi.txt\"\n",
        "\n",
        "with open(source_train_file_ko_en, encoding=\"utf-8\") as source0, open(target_train_file_ko_en, encoding=\"utf-8\") as target0:\n",
        "  source_sentences0 = [sent0.strip() for sent0 in source0.readlines()]\n",
        "  target_sentences0 = [sent0.strip() for sent0 in target0.readlines()]\n",
        "\n",
        "with open(source_train_file_vi_en, encoding=\"utf-8\") as source1, open(target_train_file_vi_en, encoding=\"utf-8\") as target1:\n",
        "  source_sentences1 = [sent1.strip() for sent1 in source1.readlines()]\n",
        "  target_sentences1 = [sent1.strip() for sent1 in target1.readlines()]\n",
        "\n",
        "with open(source_train_file_vi_ko, encoding=\"utf-8\") as source2, open(target_train_file_vi_ko, encoding=\"utf-8\") as target2:\n",
        "  source_sentences2 = [sent2.strip() for sent2 in source2.readlines()]\n",
        "  target_sentences2 = [sent2.strip() for sent2 in target2.readlines()]\n",
        "\n",
        "def create_prompt():\n",
        "    prompts = []\n",
        "    #for i in range(0, len(source_sentences)):\n",
        "    for i in range(0, 100):\n",
        "      prompt_koen = \"[INST]\"+\" Translate the Korean input text into English: \" + source_sentences0[i] + \" [/INST] \" + target_sentences0[i] + \" </s>\"\n",
        "      prompt_vien = \"[INST]\"+\" Translate the Vietnamese input text into English: \" + source_sentences1[i] + \" [/INST] \" + target_sentences1[i] + \" </s>\"\n",
        "      prompt_enko = \"[INST]\"+\" Translate the English input text into Korean: \" + target_sentences0[i] + \" [/INST] \" + source_sentences0[i] + \" </s>\"\n",
        "      prompt_envi = \"[INST]\"+\" Translate the English input text into Vietnamese: \" + target_sentences1[i] + \" [/INST] \" + source_sentences1[i] + \" </s>\"\n",
        "\n",
        "      print(prompt_vien)\n",
        "      prompts.append(prompt_koen)\n",
        "      prompts.append(prompt_vien)\n",
        "      prompts.append(prompt_enko)\n",
        "      prompts.append(prompt_envi)\n",
        "    for i in range(0,len(source_train_file_vi_ko)):\n",
        "      prompt_kovi = \"[INST]\"+\" Translate the Korean input text into Vietnamese: \" + target_sentences2[i] + \" [/INST] \" + source_sentences2[i] + \" </s>\"\n",
        "      prompt_viko = \"[INST]\"+\" Translate the Vietnamese input text into Korean: \" + source_sentences2[i] + \" [/INST] \" + target_sentences2[i] + \" </s>\"\n",
        "      prompts.append(prompt_kovi)\n",
        "      prompts.append(prompt_viko)\n",
        "    return prompts\n",
        "\n",
        "prompts = create_prompt()\n",
        "random.shuffle(prompts)\n",
        "\n",
        "\n",
        "dataset = DatasetDict({\n",
        "    \"train\": Dataset.from_dict({\"text\": prompts[:len(prompts)]}),\n",
        "    \"validation\": Dataset.from_dict({\"text\": prompts[int(0.9*len(prompts)):]})\n",
        "})\n",
        "\n",
        "\n",
        "random_state = 3407\n",
        "transformers_set_seed(random_state)\n",
        "\n",
        "output_directory = \"llama3_20240711\"\n",
        "\n",
        "training_args = TrainingArguments(\n",
        "                                  output_dir = output_directory,\n",
        "                                  num_train_epochs=2,\n",
        "                                  #max_steps = 594, # comment out this line if you want to train in epochs\n",
        "                                  per_device_train_batch_size = 2,\n",
        "                                  gradient_accumulation_steps = 1,\n",
        "                                  optim=\"paged_adamw_8bit\",\n",
        "                                  fp16 = not HAS_BFLOAT16,\n",
        "                                  bf16 = HAS_BFLOAT16,\n",
        "                                  save_steps=1000,\n",
        "                                  logging_steps=50,\n",
        "                                  # save_strategy=\"epoch\",\n",
        "                                  evaluation_strategy=None,\n",
        "                                  learning_rate=2e-4,\n",
        "                                  weight_decay=0.001,\n",
        "                                  max_grad_norm=0.3,\n",
        "                                  max_steps=-1,\n",
        "                                  warmup_ratio=0.03,\n",
        "                                  group_by_length=True,\n",
        "                                  lr_scheduler_type=\"linear\",\n",
        "                                  report_to=None,\n",
        "                                  seed=random_state\n",
        "                                )\n",
        "\n",
        "max_seq_length = 1024  # increase if needed\n",
        "\n",
        "trainer = SFTTrainer(\n",
        "                    model=model,\n",
        "                    # peft_config=lora_config,\n",
        "                    max_seq_length=max_seq_length,\n",
        "                    tokenizer=tokenizer,\n",
        "                    packing=False,\n",
        "                    dataset_text_field=\"text\",\n",
        "                    args=training_args,\n",
        "                    train_dataset=dataset[\"train\"],\n",
        "                    eval_dataset=dataset[\"validation\"],\n",
        "                  )\n",
        "\n",
        "trainer.train()"
      ],
      "metadata": {
        "id": "shtVSCttk_tA"
      },
      "execution_count": null,
      "outputs": []
    },
    {
      "cell_type": "code",
      "source": [
        "!gdown --folder https://drive.google.com/drive/folders/sdsldkfj...somefileid.. -O /some_parent_directory/some_child_directory"
      ],
      "metadata": {
        "id": "AB4G_jHzflRo"
      },
      "execution_count": null,
      "outputs": []
    },
    {
      "cell_type": "code",
      "source": [
        "import gdown\n",
        "url = 'https://drive.google.com/drive/folders/1aWSFb-ZR8TTIDdRlDBBCh-YvvCxmt6Bc'\n",
        "output = '20150428_collected_images.tgz'\n",
        "gdown.download(url, output, quiet=False)"
      ],
      "metadata": {
        "id": "Dyu-imLXdAeX",
        "outputId": "9cf0fb52-d0b7-448a-db9c-9dd96950b871",
        "colab": {
          "base_uri": "https://localhost:8080/",
          "height": 160
        }
      },
      "execution_count": 5,
      "outputs": [
        {
          "output_type": "stream",
          "name": "stderr",
          "text": [
            "/usr/local/lib/python3.10/dist-packages/gdown/parse_url.py:48: UserWarning: You specified a Google Drive link that is not the correct link to download a file. You might want to try `--fuzzy` option or the following url: https://drive.google.com/uc?id=None\n",
            "  warnings.warn(\n",
            "Downloading...\n",
            "From: https://drive.google.com/drive/folders/1aWSFb-ZR8TTIDdRlDBBCh-YvvCxmt6Bc\n",
            "To: /content/20150428_collected_images.tgz\n",
            "1.21MB [00:00, 65.0MB/s]\n"
          ]
        },
        {
          "output_type": "execute_result",
          "data": {
            "text/plain": [
              "'20150428_collected_images.tgz'"
            ],
            "application/vnd.google.colaboratory.intrinsic+json": {
              "type": "string"
            }
          },
          "metadata": {},
          "execution_count": 5
        }
      ]
    }
  ],
  "metadata": {
    "colab": {
      "name": "Welcome To Colab",
      "provenance": [],
      "include_colab_link": true
    },
    "kernelspec": {
      "display_name": "Python 3",
      "name": "python3"
    }
  },
  "nbformat": 4,
  "nbformat_minor": 0
}