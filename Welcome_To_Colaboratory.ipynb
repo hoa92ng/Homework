{
  "cells": [
    {
      "cell_type": "markdown",
      "metadata": {
        "id": "view-in-github",
        "colab_type": "text"
      },
      "source": [
        "<a href=\"https://colab.research.google.com/github/hoa92ng/Homework/blob/main/Welcome_To_Colaboratory.ipynb\" target=\"_parent\"><img src=\"https://colab.research.google.com/assets/colab-badge.svg\" alt=\"Open In Colab\"/></a>"
      ]
    },
    {
      "cell_type": "code",
      "source": [
        "test"
      ],
      "metadata": {
        "id": "2FjSTqsjWtvG"
      },
      "execution_count": null,
      "outputs": []
    },
    {
      "cell_type": "code",
      "source": [
        "from torchaudio.datasets import SPEECHCOMMANDS"
      ],
      "metadata": {
        "id": "LJvdSYQLy1rI"
      },
      "execution_count": null,
      "outputs": []
    },
    {
      "cell_type": "code",
      "source": [
        "label_2_id = {'yes':0,\n",
        "              'no':1,\n",
        "              'up':2,\n",
        "              'down':3,\n",
        "              'left':4,\n",
        "              'right':5,\n",
        "              'on':6,\n",
        "              'off':7,\n",
        "              'stop':8,\n",
        "              'go':9,\n",
        "              'silence':10,\n",
        "              'unknown':11, }\n",
        "id_2_label = {0:'yes',\n",
        "              1:'no',\n",
        "              2:'up',\n",
        "              3:'down',\n",
        "              4:'left',\n",
        "              5:'right',\n",
        "              6:'on',\n",
        "              7:'off',\n",
        "              8:'stop',\n",
        "              9:'go',\n",
        "              10:'silence',\n",
        "              11:'unknown',}"
      ],
      "metadata": {
        "id": "Q7s2YQRfy3UY"
      },
      "execution_count": null,
      "outputs": []
    },
    {
      "cell_type": "code",
      "source": [
        "import torchaudio\n",
        "from torchaudio.datasets import SPEECHCOMMANDS\n",
        "from torch.utils.data import DataLoader, Dataset\n",
        "import os\n",
        "\n",
        "# Define a custom dataset class to load Google Speech Commands\n",
        "class GoogleSpeechCommands(Dataset):\n",
        "    def __init__(self, subset=None):\n",
        "        self.dataset = SPEECHCOMMANDS(root=\"./data\", url='speech_commands_v0.01', download=True, subset=subset)\n",
        "\n",
        "    def __len__(self):\n",
        "        return len(self.dataset)\n",
        "\n",
        "    def __getitem__(self, idx):\n",
        "        waveform, sample_rate, label, _, _ = self.dataset[idx]\n",
        "\n",
        "        return waveform, sample_rate, label\n",
        "\n",
        "# Create train and test datasets\n",
        "train_dataset = GoogleSpeechCommands(subset='training')\n",
        "test_dataset = GoogleSpeechCommands(subset='validation')\n",
        "testt_dataset = GoogleSpeechCommands(subset='testing')\n",
        "\n",
        "train_loader = DataLoader(train_dataset, batch_size=32, shuffle=True)\n",
        "test_loader = DataLoader(test_dataset, batch_size=32, shuffle=False)"
      ],
      "metadata": {
        "id": "pZYZSaZ2y3bC"
      },
      "execution_count": null,
      "outputs": []
    },
    {
      "cell_type": "code",
      "source": [
        "waveform, sample_rate, label, _, _ = test_dataset.dataset[3351]\n",
        "print(waveform, sample_rate, label, _, _ )\n",
        "if label in label_2_id.keys():\n",
        "    print(label_2_id[label])\n",
        "else:\n",
        "    print(label_2_id['unknown'])"
      ],
      "metadata": {
        "id": "trXJoZAcy3dv"
      },
      "execution_count": null,
      "outputs": []
    },
    {
      "cell_type": "code",
      "source": [
        "import torch\n",
        "import torch.nn as nn\n",
        "from transformers import Wav2Vec2Model\n",
        "\n",
        "# Define the Wav2Vec2 model with a classification head\n",
        "class Wav2Vec2ForSpeechCommandClassification(nn.Module):\n",
        "    def __init__(self, num_classes, freeze_wav2vec=True):\n",
        "        super(Wav2Vec2ForSpeechCommandClassification, self).__init__()\n",
        "        self.wav2vec = Wav2Vec2Model.from_pretrained(\"./model_1\")\n",
        "\n",
        "        # Freeze Wav2Vec2 parameters if specified\n",
        "        if freeze_wav2vec:\n",
        "            for param in self.wav2vec.parameters():\n",
        "                param.requires_grad = False\n",
        "\n",
        "        self.classifier = nn.Linear(self.wav2vec.config.hidden_size, num_classes)\n",
        "\n",
        "    def forward(self, input_values):\n",
        "        with torch.no_grad():  # Skip gradient calculation for frozen layers\n",
        "            features = self.wav2vec(input_values).last_hidden_state\n",
        "        features = features.mean(dim=1)\n",
        "        logits = self.classifier(features)\n",
        "        return logits\n",
        "\n",
        "# Number of commands in the dataset\n",
        "num_classes = 35  # Adjust based on the number of commands in your dataset\n",
        "\n",
        "model = Wav2Vec2ForSpeechCommandClassification(num_classes)"
      ],
      "metadata": {
        "id": "pluGPIcry3gy"
      },
      "execution_count": null,
      "outputs": []
    },
    {
      "cell_type": "code",
      "source": [
        "from torch.optim import AdamW\n",
        "import torch.nn.functional as F\n",
        "\n",
        "# Define optimizer and loss function\n",
        "optimizer = AdamW(model.parameters(), lr=1e-4)\n",
        "criterion = nn.CrossEntropyLoss()\n",
        "\n",
        "# Move model to GPU if available\n",
        "device = torch.device(\"cuda\" if torch.cuda.is_available() else \"cpu\")\n",
        "model.to(device)\n",
        "\n",
        "def train(model, train_loader, optimizer, criterion):\n",
        "    model.train()\n",
        "    total_loss = 0\n",
        "    for batch in train_loader:\n",
        "        inputs, sample_rate, labels = batch\n",
        "        inputs = inputs.to(device)\n",
        "        labels = labels.to(device)\n",
        "\n",
        "        optimizer.zero_grad()\n",
        "\n",
        "        logits = model(inputs)\n",
        "        loss = criterion(logits, labels)\n",
        "        loss.backward()\n",
        "\n",
        "        optimizer.step()\n",
        "        total_loss += loss.item()\n",
        "\n",
        "    return total_loss / len(train_loader)\n",
        "\n",
        "def evaluate(model, test_loader, criterion):\n",
        "    model.eval()\n",
        "    total_loss = 0\n",
        "    correct = 0\n",
        "    with torch.no_grad():\n",
        "        for batch in test_loader:\n",
        "            inputs, sample_rate, labels = batch\n",
        "            inputs = inputs.to(device)\n",
        "            labels = labels.to(device)\n",
        "\n",
        "            logits = model(inputs)\n",
        "            loss = criterion(logits, labels)\n",
        "            total_loss += loss.item()\n",
        "\n",
        "            preds = torch.argmax(logits, dim=-1)\n",
        "            correct += torch.sum(preds == labels).item()\n",
        "\n",
        "    accuracy = correct / len(test_loader.dataset)\n",
        "    return total_loss / len(test_loader), accuracy"
      ],
      "metadata": {
        "id": "LB7X5Ccoy-Ej"
      },
      "execution_count": null,
      "outputs": []
    },
    {
      "cell_type": "code",
      "source": [
        "num_epochs = 10\n",
        "\n",
        "for epoch in range(num_epochs):\n",
        "    train_loss = train(model, train_loader, optimizer, criterion)\n",
        "    test_loss, accuracy = evaluate(model, test_loader, criterion)\n",
        "\n",
        "    print(f\"Epoch {epoch + 1}, Train Loss: {train_loss:.4f}, Test Loss: {test_loss:.4f}, Accuracy: {accuracy:.4f}\")"
      ],
      "metadata": {
        "id": "t9HctVbfzAbc"
      },
      "execution_count": null,
      "outputs": []
    },
    {
      "cell_type": "code",
      "source": [
        "torch.save(model.state_dict(), \"wav2vec2_speech_commands.pth\")"
      ],
      "metadata": {
        "id": "YEWheYawzCD6"
      },
      "execution_count": null,
      "outputs": []
    }
  ],
  "metadata": {
    "colab": {
      "name": "Welcome To Colaboratory",
      "toc_visible": true,
      "provenance": [],
      "include_colab_link": true
    },
    "kernelspec": {
      "display_name": "Python 3",
      "name": "python3"
    }
  },
  "nbformat": 4,
  "nbformat_minor": 0
}