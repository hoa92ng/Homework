{
  "cells": [
    {
      "cell_type": "markdown",
      "metadata": {
        "id": "view-in-github",
        "colab_type": "text"
      },
      "source": [
        "<a href=\"https://colab.research.google.com/github/hoa92ng/Homework/blob/main/Making_the_Most_of_your_Colab_Subscription.ipynb\" target=\"_parent\"><img src=\"https://colab.research.google.com/assets/colab-badge.svg\" alt=\"Open In Colab\"/></a>"
      ]
    },
    {
      "cell_type": "code",
      "source": [
        "# Importing the necessary libraries\n",
        "import numpy as np\n",
        "import matplotlib.pyplot as plt\n",
        "import pandas as pd\n",
        "import sklearn"
      ],
      "metadata": {
        "id": "ZBscCm00SlD3"
      },
      "execution_count": null,
      "outputs": []
    },
    {
      "cell_type": "code",
      "source": [
        "# Loading the dataset using sklearn\n",
        "from sklearn.datasets import load_wine\n",
        "data = load_wine()\n",
        "\n",
        "# Displaying relevant information about the data\n",
        "print(data['DESCR'][200:1420])"
      ],
      "metadata": {
        "id": "MPNhI-eHSlG4"
      },
      "execution_count": null,
      "outputs": []
    },
    {
      "cell_type": "code",
      "source": [
        "# Separating data into feature variable X and target variable y respectively\n",
        "from sklearn.model_selection import train_test_split\n",
        "X = data['data']\n",
        "y = data['target']\n",
        "\n",
        "# Extracting the names of the features from data\n",
        "features = data['feature_names']\n",
        "\n",
        "# Splitting X & y into training and testing set\n",
        "X_train, X_test, y_train, y_test = train_test_split(\n",
        "    X, y, train_size=0.90, random_state=50)\n",
        "\n",
        "# Creating a dataframe of the data, for a visual check\n",
        "df = pd.concat([pd.DataFrame(X), pd.DataFrame(y)], axis=1)\n",
        "df.columns = np.concatenate((features, np.array(['label'])))\n",
        "print(\"Shape of data =\", df.shape)\n",
        "\n",
        "# Printing the top 5 rows of the dataframe\n",
        "df.head()"
      ],
      "metadata": {
        "id": "MxSXPcR0SlJv"
      },
      "execution_count": null,
      "outputs": []
    },
    {
      "cell_type": "code",
      "source": [
        "# Instantiating the prediction model - an extra-trees regressor\n",
        "from sklearn.ensemble import ExtraTreesRegressor\n",
        "reg = ExtraTreesRegressor(random_state=50)\n",
        "\n",
        "# Fitting the predictino model onto the training set\n",
        "reg.fit(X_train, y_train)\n",
        "\n",
        "# Checking the model's performance on the test set\n",
        "print('R2 score for the model on test set =', reg.score(X_test, y_test))"
      ],
      "metadata": {
        "id": "6UBJuA6iSlMq"
      },
      "execution_count": null,
      "outputs": []
    },
    {
      "cell_type": "code",
      "source": [
        "\n",
        "# Importing the module for LimeTabularExplainer\n",
        "from lime import lime_tabular\n",
        "\n",
        "# Instantiating the explainer object by passing in the training set,\n",
        "# and the extracted features\n",
        "explainer_lime = lime_tabular.LimeTabularExplainer(X_train,\n",
        "                                                   feature_names=features,\n",
        "                                                   verbose=True,\n",
        "                                                   mode='regression')"
      ],
      "metadata": {
        "id": "yDgPDN-sSlPb"
      },
      "execution_count": null,
      "outputs": []
    },
    {
      "cell_type": "code",
      "source": [
        "\n",
        "# Index corresponding to the test vector\n",
        "i = 10\n",
        "\n",
        "# Number denoting the top features\n",
        "k = 5\n",
        "\n",
        "# Calling the explain_instance method by passing in the:\n",
        "#    1) ith test vector\n",
        "#    2) prediction function used by our prediction model('reg' in this case)\n",
        "#    3) the top features which we want to see, denoted by k\n",
        "\n",
        "exp_lime = explainer_lime.explain_instance(\n",
        "    X_test[i], reg.predict, num_features=k)\n",
        "\n",
        "# Finally visualizing the explanations\n",
        "exp_lime.show_in_notebook()"
      ],
      "metadata": {
        "id": "DoXlU8g4SlR_"
      },
      "execution_count": null,
      "outputs": []
    },
    {
      "cell_type": "code",
      "source": [
        "import torch\n",
        "from torchvision.datasets import ImageNet\n",
        "import torchvision.models as models\n",
        "\n",
        "model = models.resnet50(pretrained=True)"
      ],
      "metadata": {
        "id": "50t6YD4nSlVQ"
      },
      "execution_count": null,
      "outputs": []
    },
    {
      "cell_type": "code",
      "source": [
        "import json\n",
        "import urllib\n",
        "\n",
        "# URL đến file chứa nhãn ImageNet\n",
        "LABELS_URL = \"https://raw.githubusercontent.com/anishathalye/imagenet-simple-labels/master/imagenet-simple-labels.json\"\n",
        "\n",
        "# Tải nhãn từ URL\n",
        "response = urllib.request.urlopen(LABELS_URL)\n",
        "labels = json.loads(response.read().decode())\n",
        "\n",
        "# In thử một số nhãn\n",
        "print(labels[:10])  # Hiển thị 10 nhãn đầu tiên"
      ],
      "metadata": {
        "id": "emnyKHeUSlYB"
      },
      "execution_count": null,
      "outputs": []
    },
    {
      "cell_type": "code",
      "source": [
        "import skimage as ski\n",
        "from skimage.transform import resize\n",
        "from skimage.io import imread\n",
        "from skimage import img_as_float"
      ],
      "metadata": {
        "id": "MSgWEb8lSlbT"
      },
      "execution_count": null,
      "outputs": []
    },
    {
      "cell_type": "code",
      "source": [
        "image_reader_raw = imread(r'E:\\2.Image\\16.Image_net\\Nam-doc01.jpg')\n",
        "image_reader = img_as_float(image_reader_raw)\n",
        "image_reader = resize(image_reader, (256, 256))\n",
        "mean = np.array([0.485, 0.456, 0.406])\n",
        "std = np.array([0.229, 0.224, 0.225])\n",
        "image_normalized = (image_reader - mean) / std\n",
        "# plt.imshow(image_reader)\n",
        "tensor = torch.from_numpy(image_normalized).transpose(-1, 0).unsqueeze(0).float()\n",
        "model.eval()\n",
        "with torch.no_grad():\n",
        "    predict = torch.softmax(model(tensor), -1)\n",
        "    arg_label = torch.argmax(predict, -1)\n",
        "    print(labels[arg_label], arg_label.item(), predict[0, arg_label].item())\n",
        "    for x in predict.argsort()[0][-5:]:\n",
        "        print(labels[x.item()], x.item(), predict[0, x].item())\n",
        "plt.imshow(image_reader)"
      ],
      "metadata": {
        "id": "A6SA6T81SyPQ"
      },
      "execution_count": null,
      "outputs": []
    },
    {
      "cell_type": "code",
      "source": [
        "def predict_fn(img):\n",
        "    image_reader = img_as_float(img)\n",
        "    image_reader = resize(image_reader, (256, 256))\n",
        "    mean = np.array([0.485, 0.456, 0.406])\n",
        "    std = np.array([0.229, 0.224, 0.225])\n",
        "    image_normalized = (image_reader - mean) / std\n",
        "    # plt.imshow(image_reader)\n",
        "    tensor = torch.from_numpy(image_normalized).transpose(-1, 0).unsqueeze(0).float()\n",
        "    model.eval()\n",
        "    with torch.no_grad():\n",
        "        predict = torch.softmax(model(tensor), -1)\n",
        "        arg_label = torch.argmax(predict, -1)\n",
        "        return predict.numpy()\n",
        "\n",
        "print(predict_fn(image_reader_raw).argsort()[0][-5:])"
      ],
      "metadata": {
        "id": "9aEm5kOGSyMS"
      },
      "execution_count": null,
      "outputs": []
    },
    {
      "cell_type": "code",
      "source": [
        "from lime import lime_image\n",
        "import time\n",
        "explainer = lime_image.LimeImageExplainer()\n",
        "tmp = time.time()\n",
        "print(image_reader_raw.shape)\n",
        "image_reader = resize(image_reader_raw, (256, 256))\n",
        "# Hide color is the color for a superpixel turned OFF. Alternatively, if it is NONE, the superpixel will be replaced by the average of its pixels\n",
        "explanation = explainer.explain_instance(image_reader, predict_fn, top_labels=5, hide_color=0, num_samples=1000)\n",
        "print (time.time() - tmp)"
      ],
      "metadata": {
        "id": "HfL6BuU9SyJo"
      },
      "execution_count": null,
      "outputs": []
    },
    {
      "cell_type": "code",
      "source": [],
      "metadata": {
        "id": "M39NCqLxSyG5"
      },
      "execution_count": null,
      "outputs": []
    },
    {
      "cell_type": "code",
      "source": [],
      "metadata": {
        "id": "MIJV1_dkSyDy"
      },
      "execution_count": null,
      "outputs": []
    }
  ],
  "metadata": {
    "colab": {
      "name": "Making the Most of your Colab Subscription",
      "provenance": [],
      "include_colab_link": true
    },
    "kernelspec": {
      "display_name": "Python 3",
      "name": "python3"
    }
  },
  "nbformat": 4,
  "nbformat_minor": 0
}